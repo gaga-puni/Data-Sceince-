{
 "cells": [
  {
   "cell_type": "markdown",
   "metadata": {},
   "source": [
    "## Functions"
   ]
  },
  {
   "cell_type": "code",
   "execution_count": 1,
   "metadata": {},
   "outputs": [
    {
     "name": "stdout",
     "output_type": "stream",
     "text": [
      "Hello!\n"
     ]
    }
   ],
   "source": [
    "##Defining a function\n",
    "\n",
    "def greet_user():\n",
    "    \"\"\"Display a simple greeting\"\"\"\n",
    "    print(\"Hello!\")\n",
    "    \n",
    "greet_user()    "
   ]
  },
  {
   "cell_type": "code",
   "execution_count": 2,
   "metadata": {},
   "outputs": [
    {
     "name": "stdout",
     "output_type": "stream",
     "text": [
      "Hello, Punita\n"
     ]
    }
   ],
   "source": [
    "## Passing information to a function\n",
    "\n",
    "def greet_user(username):\n",
    "    print(f\"Hello, {username.title()}\")\n",
    "    \n",
    "greet_user('punita')    "
   ]
  },
  {
   "cell_type": "code",
   "execution_count": 5,
   "metadata": {},
   "outputs": [
    {
     "name": "stdout",
     "output_type": "stream",
     "text": [
      "\n",
      " I have a dog\n",
      "My dog's pet name is Puppy \n"
     ]
    }
   ],
   "source": [
    "## Passing Arguments\n",
    "\n",
    "def describe_pet(animal_type, pet_name):\n",
    "    \"\"\"Display the information about a pet\"\"\"\n",
    "    print(f\"\\n I have a {animal_type}\")\n",
    "    print(f\"My {animal_type}'s pet name is {pet_name.title()} \")\n",
    "    \n",
    "describe_pet('dog', 'puppy')    "
   ]
  },
  {
   "cell_type": "code",
   "execution_count": 6,
   "metadata": {},
   "outputs": [
    {
     "name": "stdout",
     "output_type": "stream",
     "text": [
      "\n",
      " I have a dog\n",
      "My dog's pet name is Puppy \n",
      "\n",
      " I have a bird\n",
      "My bird's pet name is Parrot \n"
     ]
    }
   ],
   "source": [
    "##Multiple function call\n",
    "\n",
    "def describe_pet(animal_type, pet_name):\n",
    "    \"\"\"Display the information about a pet\"\"\"\n",
    "    print(f\"\\n I have a {animal_type}\")\n",
    "    print(f\"My {animal_type}'s pet name is {pet_name.title()} \")\n",
    "    \n",
    "describe_pet('dog', 'puppy')   \n",
    "describe_pet('bird', 'parrot')\n"
   ]
  },
  {
   "cell_type": "code",
   "execution_count": null,
   "metadata": {},
   "outputs": [],
   "source": []
  }
 ],
 "metadata": {
  "kernelspec": {
   "display_name": "Python 3",
   "language": "python",
   "name": "python3"
  },
  "language_info": {
   "codemirror_mode": {
    "name": "ipython",
    "version": 3
   },
   "file_extension": ".py",
   "mimetype": "text/x-python",
   "name": "python",
   "nbconvert_exporter": "python",
   "pygments_lexer": "ipython3",
   "version": "3.8.5"
  }
 },
 "nbformat": 4,
 "nbformat_minor": 4
}
