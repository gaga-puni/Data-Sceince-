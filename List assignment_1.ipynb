{
 "cells": [
  {
   "cell_type": "markdown",
   "metadata": {},
   "source": [
    "## List Assignment"
   ]
  },
  {
   "cell_type": "code",
   "execution_count": 11,
   "metadata": {},
   "outputs": [
    {
     "name": "stdout",
     "output_type": "stream",
     "text": [
      "['1', '2', '3', '4']\n",
      "None\n"
     ]
    }
   ],
   "source": [
    "## Write a Python program to remove duplicates from a list\n",
    "\n",
    "def dupli(c):\n",
    "    b=[]\n",
    "    for i in c:        \n",
    "        if i not in b:\n",
    "            b.append(i)\n",
    "    print (b)\n",
    "c=['1','2','3','4','4']            \n",
    "print(dupli(c))            "
   ]
  },
  {
   "cell_type": "code",
   "execution_count": 21,
   "metadata": {},
   "outputs": [
    {
     "name": "stdout",
     "output_type": "stream",
     "text": [
      "('List is not empty', ['1', '2'])\n",
      "List is empty\n"
     ]
    }
   ],
   "source": [
    "##Write a Python program to check a list is empty or not\n",
    "\n",
    "def emptila(d):\n",
    "    if d==[]:\n",
    "            return('List is empty')\n",
    "    else:\n",
    "            return('List is not empty',d)\n",
    "c=['1','2']\n",
    "e=[]\n",
    "print(emptila(c))\n",
    "print(emptila(e))\n",
    "        \n",
    "    \n",
    "     \n",
    "    \n"
   ]
  },
  {
   "cell_type": "code",
   "execution_count": 43,
   "metadata": {},
   "outputs": [
    {
     "name": "stdout",
     "output_type": "stream",
     "text": [
      "('g', ['1', '2'])\n"
     ]
    }
   ],
   "source": [
    "##Write a Python program to clone or copy a list\n",
    "def clonae(g):\n",
    "    #b=[]\n",
    "    c=['1','2']\n",
    "    #b=g\n",
    "    g=c\n",
    "    #return ('b',b)\n",
    "    return ('g',g)\n",
    "\n",
    "\n",
    "a=['4','7']\n",
    "b=[]\n",
    "print(clonae(b))\n",
    "\n"
   ]
  },
  {
   "cell_type": "code",
   "execution_count": 44,
   "metadata": {},
   "outputs": [
    {
     "name": "stdout",
     "output_type": "stream",
     "text": [
      "{'1': 2, '2': 1, '3': 2, '4': 1, '5': 1}\n"
     ]
    }
   ],
   "source": [
    "## Write a Python program to get the frequency of the elements in a list\n",
    "\n",
    "def char_county(str1):\n",
    "    dict = {}\n",
    "    for n in str1:\n",
    "        keys = dict.keys()\n",
    "        if n in keys:\n",
    "            dict[n] += 1\n",
    "        else:\n",
    "            dict[n] = 1\n",
    "    return dict\n",
    "\n",
    "    \n",
    "c=['1','1','2','3','3','4','5']    \n",
    "print(char_county(c))"
   ]
  },
  {
   "cell_type": "code",
   "execution_count": null,
   "metadata": {},
   "outputs": [],
   "source": [
    "## Write a Python program to get the frequency of the elements in a list(second method)\n",
    "\n",
    "import collections\n",
    "my_list = [10,10,10,10,20,20,20,20,40,40,50,50,30]\n",
    "print(\"Original List : \",my_list)\n",
    "ctr = collections.Counter(my_list)\n",
    "print(\"Frequency of the elements in the List : \",ctr)\n"
   ]
  }
 ],
 "metadata": {
  "kernelspec": {
   "display_name": "Python 3",
   "language": "python",
   "name": "python3"
  },
  "language_info": {
   "codemirror_mode": {
    "name": "ipython",
    "version": 3
   },
   "file_extension": ".py",
   "mimetype": "text/x-python",
   "name": "python",
   "nbconvert_exporter": "python",
   "pygments_lexer": "ipython3",
   "version": "3.8.5"
  }
 },
 "nbformat": 4,
 "nbformat_minor": 4
}
