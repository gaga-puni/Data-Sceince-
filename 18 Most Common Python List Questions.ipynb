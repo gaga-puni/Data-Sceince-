{
 "cells": [
  {
   "cell_type": "code",
   "execution_count": 1,
   "metadata": {},
   "outputs": [
    {
     "name": "stdout",
     "output_type": "stream",
     "text": [
      "['bear', 'lion', 'panda', 'zebra']\n",
      "['bear', 'lion', 'panda', 'zebra', ['chimpanzees', 'gorillas', 'orangutans', 'gibbons']]\n"
     ]
    }
   ],
   "source": [
    "# These list elements are all of the same type\n",
    "zoo = ['bear', 'lion', 'panda', 'zebra']\n",
    "print(zoo)\n",
    "\n",
    "# But these list elements are not\n",
    "biggerZoo = ['bear', 'lion', 'panda', 'zebra', ['chimpanzees', 'gorillas', 'orangutans', 'gibbons']]\n",
    "print(biggerZoo)"
   ]
  },
  {
   "cell_type": "code",
   "execution_count": null,
   "metadata": {},
   "outputs": [],
   "source": [
    "# Lists Versus Tuples\n",
    "# Tuples are used to collect an immutable ordered list of elements. This means that:\n",
    "\n",
    "# You can’t add elements to a tuple. There’s no append() or extend() method for tuples,\n",
    "# You can’t remove elements from a tuple. Tuples have no remove() or pop() method,\n",
    "# You can find elements in a tuple since this doesn’t change the tuple.\n",
    "# You can also use the in operator to check if an element exists in the tuple."
   ]
  },
  {
   "cell_type": "code",
   "execution_count": null,
   "metadata": {},
   "outputs": [],
   "source": [
    "# Lists Versus Dictionaries\n",
    "# A list stores an ordered collection of items, so it keeps some order. Dictionaries don’t have any order.\n",
    "# Dictionaries are known to associate each key with a value, while lists just contain values.\n",
    "\n",
    "# Use a dictionary when you have an unordered set of unique keys that map to values.\n",
    "\n",
    "# Note that, because you have keys and values that link to each other, the performance will be better than lists in cases where you’re checking membership of an element."
   ]
  },
  {
   "cell_type": "code",
   "execution_count": null,
   "metadata": {},
   "outputs": [],
   "source": [
    "# Lists Versus Sets\n",
    "# Just like dictionaries, sets have no order in their collection of items. Not like lists.\n",
    "# Set requires the items contained in it to be hashable, lists store non-hashable items.\n",
    "# Sets require your items to be unique and immutable. Duplicates are not allowed in sets, while lists allow for duplicates and are mutable.\n",
    "\n",
    "# You should make use of sets when you have an unordered set of unique, immutable values that are hashable."
   ]
  },
  {
   "cell_type": "code",
   "execution_count": null,
   "metadata": {},
   "outputs": [],
   "source": [
    "# Hashable\tNon-Hashable\n",
    "# Floats\tDictionaries\n",
    "# Integers\tSets\n",
    "# Tuples\tLists\n",
    "# Strings\t \n",
    "# frozenset()\t "
   ]
  },
  {
   "cell_type": "code",
   "execution_count": 3,
   "metadata": {},
   "outputs": [
    {
     "name": "stdout",
     "output_type": "stream",
     "text": [
      "False\n",
      "True\n",
      "True\n"
     ]
    }
   ],
   "source": [
    "import collections\n",
    "\n",
    "# Check if a dictionary is hashable\n",
    "print(isinstance({}, collections.Hashable))\n",
    "\n",
    "# Check if a float is hashable\n",
    "print(isinstance(0.125, collections.Hashable))\n",
    "\n",
    "# Check if a integer is hashable\n",
    "print(isinstance(125, collections.Hashable))"
   ]
  },
  {
   "cell_type": "code",
   "execution_count": 4,
   "metadata": {},
   "outputs": [
    {
     "name": "stdout",
     "output_type": "stream",
     "text": [
      "bear\n"
     ]
    }
   ],
   "source": [
    "## How To Select An Element From A List\n",
    "\n",
    "onezooanimal = biggerZoo[0]\n",
    "print(onezooanimal)"
   ]
  },
  {
   "cell_type": "code",
   "execution_count": 1,
   "metadata": {},
   "outputs": [
    {
     "name": "stdout",
     "output_type": "stream",
     "text": [
      "['chimpanzees', 'gorillas', 'orangutans', 'gibbons']\n",
      "zebra\n"
     ]
    }
   ],
   "source": [
    "##How To Get The Last Element Of A List In Your List\n",
    "biggerZoo = ['bear', 'lion', 'panda', 'zebra', ['chimpanzees', 'gorillas', 'orangutans', 'gibbons']]\n",
    "print(biggerZoo[-1])\n",
    "print(biggerZoo[-2])"
   ]
  },
  {
   "cell_type": "code",
   "execution_count": 5,
   "metadata": {},
   "outputs": [
    {
     "ename": "IndexError",
     "evalue": "list index out of range",
     "output_type": "error",
     "traceback": [
      "\u001b[1;31m---------------------------------------------------------------------------\u001b[0m",
      "\u001b[1;31mIndexError\u001b[0m                                Traceback (most recent call last)",
      "\u001b[1;32m<ipython-input-5-d76ae9a84b17>\u001b[0m in \u001b[0;36m<module>\u001b[1;34m\u001b[0m\n\u001b[0;32m      1\u001b[0m \u001b[1;31m##What Does The Index Out Of Range Error Mean?\u001b[0m\u001b[1;33m\u001b[0m\u001b[1;33m\u001b[0m\u001b[1;33m\u001b[0m\u001b[0m\n\u001b[0;32m      2\u001b[0m \u001b[1;33m\u001b[0m\u001b[0m\n\u001b[1;32m----> 3\u001b[1;33m \u001b[0mbiggerZoo\u001b[0m\u001b[1;33m[\u001b[0m\u001b[1;36m5\u001b[0m\u001b[1;33m]\u001b[0m\u001b[1;33m\u001b[0m\u001b[1;33m\u001b[0m\u001b[0m\n\u001b[0m",
      "\u001b[1;31mIndexError\u001b[0m: list index out of range"
     ]
    }
   ],
   "source": [
    "##What Does The Index Out Of Range Error Mean?\n",
    "\n",
    "biggerZoo[5]"
   ]
  },
  {
   "cell_type": "code",
   "execution_count": 6,
   "metadata": {},
   "outputs": [
    {
     "name": "stdout",
     "output_type": "stream",
     "text": [
      "['bear', 'lion']\n"
     ]
    }
   ],
   "source": [
    "##The Slice Notation In Lists\n",
    "\n",
    "# Use the slice notation like this\n",
    "someZooAnimals = biggerZoo[:2 ]\n",
    "\n",
    "# Print to see what you exactly select from `biggerZoo`\n",
    "print(someZooAnimals)\n",
    "\n",
    "# Try putting 2 on the other side of the colon\n",
    "##otherZooAnimals = biggerZoo[:2 ]\n",
    "\n",
    "# Print to see what you're getting back\n",
    "##print(otherZooAnimals)"
   ]
  },
  {
   "cell_type": "code",
   "execution_count": 2,
   "metadata": {},
   "outputs": [
    {
     "data": {
      "text/plain": [
       "['bear',\n",
       " 'lion',\n",
       " 'panda',\n",
       " 'zebra',\n",
       " ['chimpanzees', 'gorillas', 'orangutans', 'gibbons']]"
      ]
     },
     "execution_count": 2,
     "metadata": {},
     "output_type": "execute_result"
    }
   ],
   "source": [
    "biggerZoo"
   ]
  },
  {
   "cell_type": "code",
   "execution_count": 5,
   "metadata": {},
   "outputs": [
    {
     "name": "stdout",
     "output_type": "stream",
     "text": [
      "['lion', ['chimpanzees', 'gorillas', 'orangutans', 'gibbons']]\n"
     ]
    }
   ],
   "source": [
    "### Print to see how the step value influences your result\n",
    "#print(biggerZoo[2::2])\n",
    "print(biggerZoo[1::3])"
   ]
  },
  {
   "cell_type": "code",
   "execution_count": 36,
   "metadata": {},
   "outputs": [
    {
     "name": "stdout",
     "output_type": "stream",
     "text": [
      "c\n"
     ]
    }
   ],
   "source": [
    "##How To Randomly Select An Element In A List\n",
    "\n",
    "# Import `choice` from the `random` library\n",
    "from random import choice\n",
    "\n",
    "# Construct your `list` variable with a list of the first 4 letters of the alphabet\n",
    "list = ['a', 'b', 'c', 'd']\n",
    "\n",
    "# Print your random 'list' element\n",
    "print(choice(list))"
   ]
  },
  {
   "cell_type": "code",
   "execution_count": 43,
   "metadata": {},
   "outputs": [
    {
     "name": "stdout",
     "output_type": "stream",
     "text": [
      "b\n"
     ]
    }
   ],
   "source": [
    "# Import `randrange` from the `random` library\n",
    "from random import randrange\n",
    "\n",
    "# Construct your `randomLetters` variable with a list of the first 4 letters of the alphabet\n",
    "randomLetters = ['a', 'b', 'c', 'd']\n",
    "\n",
    "# Select a random index from 'randomLetters`\n",
    "randomIndex = randrange(0,len(randomLetters))\n",
    "\n",
    "# Print your random element from `random`\n",
    "print(randomLetters[randomIndex])"
   ]
  },
  {
   "cell_type": "code",
   "execution_count": 44,
   "metadata": {},
   "outputs": [
    {
     "name": "stdout",
     "output_type": "stream",
     "text": [
      "OneTwoThree\n"
     ]
    }
   ],
   "source": [
    "##How To Transform Python Lists Into Other Data Structures\n",
    "\n",
    "# List of Strings to a String\n",
    "listOfStrings = ['One', 'Two', 'Three']\n",
    "strOfStrings = ''.join(listOfStrings)\n",
    "print(strOfStrings)"
   ]
  },
  {
   "cell_type": "code",
   "execution_count": 45,
   "metadata": {},
   "outputs": [
    {
     "name": "stdout",
     "output_type": "stream",
     "text": [
      "123\n"
     ]
    }
   ],
   "source": [
    "# List Of Integers to a String\n",
    "listOfNumbers = [1, 2, 3]\n",
    "strOfNumbers = ''.join(str(n) for n in listOfNumbers)\n",
    "print(strOfNumbers)"
   ]
  },
  {
   "cell_type": "code",
   "execution_count": 48,
   "metadata": {},
   "outputs": [
    {
     "data": {
      "text/plain": [
       "{'One', 'Three', 'Two'}"
      ]
     },
     "execution_count": 48,
     "metadata": {},
     "output_type": "execute_result"
    }
   ],
   "source": [
    "# Pass your list to `tuple()`\n",
    "tuple(listOfStrings)\n",
    "\n",
    "# Transform your list into a set\n",
    "set(listOfStrings)"
   ]
  },
  {
   "cell_type": "code",
   "execution_count": 9,
   "metadata": {},
   "outputs": [
    {
     "data": {
      "text/plain": [
       "[('hello',), ('world',), ('1',), ('2',)]"
      ]
     },
     "execution_count": 9,
     "metadata": {},
     "output_type": "execute_result"
    }
   ],
   "source": [
    "##How To Convert Lists To A Dictionaries\n",
    "helloWorld = ['hello','world','1','2']\n",
    "\n",
    "list(zip(helloWorld))"
   ]
  },
  {
   "cell_type": "code",
   "execution_count": 10,
   "metadata": {},
   "outputs": [
    {
     "name": "stdout",
     "output_type": "stream",
     "text": [
      "{'hello': 'world', '1': '2'}\n"
     ]
    }
   ],
   "source": [
    "# Convert to a dictionary\n",
    "helloWorldDictionary = dict(zip(helloWorld[0::2], helloWorld[1::2]))\n",
    "\n",
    "# Print out the result\n",
    "print(helloWorldDictionary)"
   ]
  },
  {
   "cell_type": "code",
   "execution_count": 11,
   "metadata": {},
   "outputs": [
    {
     "name": "stdout",
     "output_type": "stream",
     "text": [
      "{1: 2, 3: 4}\n"
     ]
    }
   ],
   "source": [
    "a = [1, 2, 3, 4, 5]\n",
    "\n",
    "# Create a list iterator object\n",
    "i = iter(a)\n",
    "\n",
    "# Zip and create a dictionary\n",
    "print(dict(zip(i, i)))"
   ]
  },
  {
   "cell_type": "code",
   "execution_count": 22,
   "metadata": {},
   "outputs": [
    {
     "name": "stdout",
     "output_type": "stream",
     "text": [
      "[('Manjeet', 4, 40), ('Nikhil', 1, 50), ('Shambhavi', 3, 60), ('Astha', 2, 70)]\n"
     ]
    }
   ],
   "source": [
    "name = [ \"Manjeet\", \"Nikhil\", \"Shambhavi\", \"Astha\" ] \n",
    "roll_no = [ 4, 1, 3, 2 ] \n",
    "marks = [ 40, 50, 60, 70 ] \n",
    "  \n",
    "# using zip() to map values \n",
    "mapped = zip(name, roll_no, marks)\n",
    "print(list(mapped))"
   ]
  },
  {
   "cell_type": "code",
   "execution_count": 13,
   "metadata": {},
   "outputs": [
    {
     "data": {
      "text/plain": [
       "<zip at 0x21fbb398e80>"
      ]
     },
     "execution_count": 13,
     "metadata": {},
     "output_type": "execute_result"
    }
   ],
   "source": [
    "mapped"
   ]
  },
  {
   "cell_type": "code",
   "execution_count": 17,
   "metadata": {},
   "outputs": [
    {
     "name": "stdout",
     "output_type": "stream",
     "text": [
      "(('John', 'Jenny'), ('Charles', 'Christy'), ('Mike', 'Monica'))\n"
     ]
    }
   ],
   "source": [
    "a = (\"John\", \"Charles\", \"Mike\")\n",
    "b = (\"Jenny\", \"Christy\", \"Monica\")\n",
    "\n",
    "x = zip(a, b)\n",
    "print(tuple(x))\n",
    "\n"
   ]
  },
  {
   "cell_type": "code",
   "execution_count": 16,
   "metadata": {},
   "outputs": [
    {
     "name": "stdout",
     "output_type": "stream",
     "text": [
      "<zip object at 0x0000021FBB39ED00>\n"
     ]
    }
   ],
   "source": [
    "print(x)"
   ]
  },
  {
   "cell_type": "code",
   "execution_count": 23,
   "metadata": {},
   "outputs": [
    {
     "name": "stdout",
     "output_type": "stream",
     "text": [
      "Original key list is : ['Rash', 'Kil', 'Varsha']\n",
      "Original value list is : [1, 4, 5]\n",
      "Resultant dictionary is : {'Rash': 1, 'Kil': 4, 'Varsha': 5}\n"
     ]
    }
   ],
   "source": [
    "# initializing lists \n",
    "test_keys = [\"Rash\", \"Kil\", \"Varsha\"] \n",
    "test_values = [1, 4, 5] \n",
    "  \n",
    "# Printing original keys-value lists \n",
    "print (\"Original key list is : \" + str(test_keys)) \n",
    "print (\"Original value list is : \" + str(test_values)) \n",
    "  \n",
    "# using zip() \n",
    "# to convert lists to dictionary \n",
    "res = dict(zip(test_keys, test_values)) \n",
    "  \n",
    "# Printing resultant dictionary  \n",
    "print (\"Resultant dictionary is : \" +  str(res)) "
   ]
  },
  {
   "cell_type": "code",
   "execution_count": 24,
   "metadata": {},
   "outputs": [
    {
     "name": "stdout",
     "output_type": "stream",
     "text": [
      "{1: 2, 3: 4}\n"
     ]
    }
   ],
   "source": [
    "a = [1, 2, 3, 4, 5]\n",
    "\n",
    "# Create a list iterator object\n",
    "i = iter(a)\n",
    "\n",
    "# Zip and create a dictionary\n",
    "print(dict(zip(i, i)))"
   ]
  },
  {
   "cell_type": "code",
   "execution_count": 25,
   "metadata": {},
   "outputs": [
    {
     "data": {
      "text/plain": [
       "4"
      ]
     },
     "execution_count": 25,
     "metadata": {},
     "output_type": "execute_result"
    }
   ],
   "source": [
    "#How To Determine The Size Of Your List in Python\n",
    "\n",
    "len(name)"
   ]
  },
  {
   "cell_type": "code",
   "execution_count": 2,
   "metadata": {},
   "outputs": [
    {
     "name": "stdout",
     "output_type": "stream",
     "text": [
      "['1', '2', '3', [4, 5]]\n",
      "['1', '2', '3', 4, 5]\n"
     ]
    }
   ],
   "source": [
    "#What’s The Difference Between The Python append() and extend() Methods?\n",
    "\n",
    "# Append [4,5] to `shortList`\n",
    "shortList=['1','2','3']\n",
    "longerList=['1','2','3']\n",
    "shortList.append([4, 5])\n",
    "\n",
    "# Use the `print()` method to show `shortList`\n",
    "print(shortList)\n",
    "\n",
    "# Extend `longerList` with [4,5]\n",
    "longerList.extend([4, 5])\n",
    "\n",
    "# Use the `print()` method to see `longerList`\n",
    "print(longerList)"
   ]
  },
  {
   "cell_type": "code",
   "execution_count": 3,
   "metadata": {},
   "outputs": [
    {
     "name": "stdout",
     "output_type": "stream",
     "text": [
      "['1', '2', '3', 4, 5]\n"
     ]
    }
   ],
   "source": [
    "#How To Concatenate Lists in Python\n",
    "\n",
    "# So + operator can append multiple lists to your new list variable whereas the extend method will \n",
    "# only append one list to your current list (i.e will extend your list to the new list appended)\n",
    "\n",
    "# Concatenate `shortList` with `[4,5]`\n",
    "shortList=['1','2','3']\n",
    "plusList = shortList + [4,5]\n",
    "\n",
    "#Use the `print()` method to see `plusList`\n",
    "print(plusList)"
   ]
  },
  {
   "cell_type": "code",
   "execution_count": 8,
   "metadata": {},
   "outputs": [
    {
     "name": "stdout",
     "output_type": "stream",
     "text": [
      "[1, 2, 3, 4, 5, 6, 8, 9, 10]\n",
      "[1, 2, 3, 4, 5, 6, 8, 9, 10]\n"
     ]
    }
   ],
   "source": [
    "list_1 = [1,2,3] \n",
    "list_2 = [4,5,6] \n",
    "list_3 = [8,9,10] \n",
    "print (list_1 + list_2 + list_3) \n",
    "new_list = list_1 + list_2 + list_3 \n",
    "print (new_list)"
   ]
  },
  {
   "cell_type": "code",
   "execution_count": 10,
   "metadata": {},
   "outputs": [
    {
     "name": "stdout",
     "output_type": "stream",
     "text": [
      "[7, 8, 9, 1, 2, 3, 3, 4, 5]\n"
     ]
    }
   ],
   "source": [
    "list_1 = [1,2,3] \n",
    "list_2 = [3,4,5] \n",
    "list_3 = [7,8,9]\n",
    "list_3.extend(list_1)\n",
    "list_3.extend(list_2)\n",
    "print (list_3)"
   ]
  },
  {
   "cell_type": "code",
   "execution_count": 14,
   "metadata": {},
   "outputs": [
    {
     "name": "stdout",
     "output_type": "stream",
     "text": [
      "[120, 10, 150, 30, 20]\n"
     ]
    }
   ],
   "source": [
    "# Use `sort()` on the `rooms` list\n",
    "# sorted() method sorts the given sequence either in ascending order or in descending \n",
    "# order and always return the a sorted list. This method doesnot effect the original sequence.\n",
    "#Whereas sort method once sort change the sequence permanently\n",
    "rooms=[120,10,150,30,20]\n",
    "orders = [5,7,8,9,3,6]\n",
    "#rooms.sort()\n",
    "\n",
    "# Print out `rooms` to see the result\n",
    "#print(rooms)\n",
    "\n",
    "# Now use the `sorted()` function on the `orders` list\n",
    "sorted(rooms)\n",
    "\n",
    "# Print out orders\n",
    "print(rooms)"
   ]
  },
  {
   "cell_type": "code",
   "execution_count": 22,
   "metadata": {},
   "outputs": [
    {
     "name": "stdout",
     "output_type": "stream",
     "text": [
      "['e', 'q', 'r', 't', 'w', 'y']\n",
      "['q', 'w', 'r', 'e', 't', 'y']\n"
     ]
    }
   ],
   "source": [
    "x = ['q', 'w', 'r', 'e', 't', 'y'] \n",
    "print(sorted(x))\n",
    "print(x) "
   ]
  },
  {
   "cell_type": "code",
   "execution_count": 19,
   "metadata": {},
   "outputs": [
    {
     "data": {
      "text/plain": [
       "['e', 'q', 'r', 't', 'w', 'y']"
      ]
     },
     "execution_count": 19,
     "metadata": {},
     "output_type": "execute_result"
    }
   ],
   "source": [
    "x"
   ]
  },
  {
   "cell_type": "code",
   "execution_count": 36,
   "metadata": {},
   "outputs": [
    {
     "name": "stdout",
     "output_type": "stream",
     "text": [
      "Numbers List: [9, 2, 3, 4, 5]\n",
      "ID of numbers list: 1921426919040\n",
      "Numbers List: [9, 2, 3, 4, 5]\n",
      "ID of numbers list: 1921426919040\n"
     ]
    }
   ],
   "source": [
    "##Shallow copy and deep copy\n",
    "\n",
    "numbers = [1,2,3,4,5]\n",
    "new_numbers= numbers\n",
    "\n",
    "new_numbers[0]=9\n",
    "\n",
    "print(\"Numbers List:\", numbers)\n",
    "print(\"ID of numbers list:\", id(numbers))\n",
    "\n",
    "print(\"Numbers List:\", new_numbers)\n",
    "print(\"ID of numbers list:\", id(new_numbers))"
   ]
  },
  {
   "cell_type": "code",
   "execution_count": 38,
   "metadata": {},
   "outputs": [
    {
     "name": "stdout",
     "output_type": "stream",
     "text": [
      "old_list [[1, 2, 3], [4, 5, 6], [7, 8, 9]]\n",
      "new_list [['a', 'b', 'c'], [4, 5, 6], [7, 8, 9]]\n"
     ]
    }
   ],
   "source": [
    "import copy\n",
    "\n",
    "old_list =[[1,2,3],[4,5,6],[7,8,9]]\n",
    "new_list=copy.copy(old_list) \n",
    "\n",
    "new_list[0]=['a','b','c']\n",
    "print(\"old_list\",old_list)\n",
    "print(\"new_list\",new_list)"
   ]
  },
  {
   "cell_type": "code",
   "execution_count": 39,
   "metadata": {},
   "outputs": [
    {
     "name": "stdout",
     "output_type": "stream",
     "text": [
      "old_list [[1, 2, 'c'], [4, 5, 6], [7, 8, 9]]\n",
      "new_list [[1, 2, 'c'], [4, 5, 6], [7, 8, 9]]\n"
     ]
    }
   ],
   "source": [
    "##Shallow copy\n",
    "import copy\n",
    "\n",
    "old_list =[[1,2,3],[4,5,6],[7,8,9]]\n",
    "new_list=copy.copy(old_list) \n",
    "\n",
    "new_list[0][2]='c'\n",
    "print(\"old_list\",old_list)\n",
    "print(\"new_list\",new_list)\n"
   ]
  },
  {
   "cell_type": "code",
   "execution_count": 40,
   "metadata": {},
   "outputs": [
    {
     "name": "stdout",
     "output_type": "stream",
     "text": [
      "old_list [[1, 2, 3], [4, 5, 6], [7, 8, 9]]\n",
      "new_list [[1, 2, 'c'], [4, 5, 6], [7, 8, 9]]\n"
     ]
    }
   ],
   "source": [
    "##deep copy\n",
    "import copy\n",
    "\n",
    "old_list =[[1,2,3],[4,5,6],[7,8,9]]\n",
    "new_list=copy.deepcopy(old_list) \n",
    "\n",
    "new_list[0][2]='c'\n",
    "print(\"old_list\",old_list)\n",
    "print(\"new_list\",new_list)\n"
   ]
  },
  {
   "cell_type": "code",
   "execution_count": 44,
   "metadata": {},
   "outputs": [
    {
     "name": "stdout",
     "output_type": "stream",
     "text": [
      "[1, 4, 9, 16, 25, 36, 49, 64, 81, 100, 121, 144, 169, 196, 225, 256, 289, 324, 361, 400, 441, 484, 529, 576, 625, 676, 729, 784, 841, 900, 961, 1024, 1089, 1156, 1225, 1296, 1369, 1444, 1521, 1600, 1681, 1764, 1849, 1936, 2025, 2116, 2209, 2304, 2401, 2500, 2601, 2704, 2809, 2916, 3025, 3136, 3249, 3364, 3481, 3600, 3721, 3844, 3969, 4096, 4225, 4356, 4489, 4624, 4761, 4900, 5041, 5184, 5329, 5476, 5625, 5776, 5929, 6084, 6241, 6400, 6561, 6724, 6889, 7056, 7225, 7396, 7569, 7744, 7921, 8100, 8281, 8464, 8649, 8836, 9025, 9216, 9409, 9604, 9801, 10000]\n"
     ]
    }
   ],
   "source": [
    "##How Does List Comprehension Work In Python?\n",
    "\n",
    "##List of squares\n",
    "\n",
    "Squares=[]\n",
    "for i in range(1, 101):\n",
    "    Squares.append(i**2)\n",
    "print(Squares)\n"
   ]
  },
  {
   "cell_type": "code",
   "execution_count": 45,
   "metadata": {
    "scrolled": true
   },
   "outputs": [
    {
     "name": "stdout",
     "output_type": "stream",
     "text": [
      "[1, 4, 9, 16, 25, 36, 49, 64, 81, 100, 121, 144, 169, 196, 225, 256, 289, 324, 361, 400, 441, 484, 529, 576, 625, 676, 729, 784, 841, 900, 961, 1024, 1089, 1156, 1225, 1296, 1369, 1444, 1521, 1600, 1681, 1764, 1849, 1936, 2025, 2116, 2209, 2304, 2401, 2500, 2601, 2704, 2809, 2916, 3025, 3136, 3249, 3364, 3481, 3600, 3721, 3844, 3969, 4096, 4225, 4356, 4489, 4624, 4761, 4900, 5041, 5184, 5329, 5476, 5625, 5776, 5929, 6084, 6241, 6400, 6561, 6724, 6889, 7056, 7225, 7396, 7569, 7744, 7921, 8100, 8281, 8464, 8649, 8836, 9025, 9216, 9409, 9604, 9801, 10000]\n"
     ]
    }
   ],
   "source": [
    "squares2=[i**2 for i in range(1,101)]\n",
    "print(squares2)"
   ]
  },
  {
   "cell_type": "code",
   "execution_count": 49,
   "metadata": {},
   "outputs": [
    {
     "name": "stdout",
     "output_type": "stream",
     "text": [
      "[1, 0, 1, 0, 1, 0, 1, 0, 1, 0, 1, 0, 1, 0, 1, 0, 1, 0, 1, 0, 1, 0, 1, 0, 1, 0, 1, 0, 1, 0, 1, 0, 1, 0, 1, 0, 1, 0, 1, 0, 1, 0, 1, 0, 1, 0, 1, 0, 1, 0, 1, 0, 1, 0, 1, 0, 1, 0, 1, 0, 1, 0, 1, 0, 1, 0, 1, 0, 1, 0, 1, 0, 1, 0, 1, 0, 1, 0, 1, 0, 1, 0, 1, 0, 1, 0, 1, 0, 1, 0, 1, 0, 1, 0, 1, 0, 1, 0, 1, 0]\n"
     ]
    }
   ],
   "source": [
    "remainders2=[x**2 % 2 for x in range(1,101)]\n",
    "print(remainders2)"
   ]
  },
  {
   "cell_type": "code",
   "execution_count": 51,
   "metadata": {},
   "outputs": [
    {
     "name": "stdout",
     "output_type": "stream",
     "text": [
      "[1, 4, 4, 1, 0, 1, 4, 4, 1, 0, 1, 4, 4, 1, 0, 1, 4, 4, 1, 0, 1, 4, 4, 1, 0, 1, 4, 4, 1, 0, 1, 4, 4, 1, 0, 1, 4, 4, 1, 0, 1, 4, 4, 1, 0, 1, 4, 4, 1, 0, 1, 4, 4, 1, 0, 1, 4, 4, 1, 0, 1, 4, 4, 1, 0, 1, 4, 4, 1, 0, 1, 4, 4, 1, 0, 1, 4, 4, 1, 0, 1, 4, 4, 1, 0, 1, 4, 4, 1, 0, 1, 4, 4, 1, 0, 1, 4, 4, 1, 0]\n"
     ]
    }
   ],
   "source": [
    "remainders5=[x**2 % 5 for x in range(1,101)]\n",
    "print(remainders5)"
   ]
  },
  {
   "cell_type": "code",
   "execution_count": 52,
   "metadata": {},
   "outputs": [
    {
     "name": "stdout",
     "output_type": "stream",
     "text": [
      "2\n"
     ]
    },
    {
     "data": {
      "text/plain": [
       "3"
      ]
     },
     "execution_count": 52,
     "metadata": {},
     "output_type": "execute_result"
    }
   ],
   "source": [
    "##How To Count Occurrences Of A List Item In Python\n",
    "##Counting the occurrences of one item in a list\n",
    "\n",
    "print([1, 2, 9, 4, 5, 4, 1].count(4))\n",
    "\n",
    "# Count the occurrences of the letter \"a\"\n",
    "list = [\"d\", \"a\", \"t\", \"a\", \"c\", \"a\", \"m\", \"p\"]\n",
    "list.count(\"a\")\n"
   ]
  },
  {
   "cell_type": "code",
   "execution_count": 55,
   "metadata": {},
   "outputs": [
    {
     "data": {
      "text/plain": [
       "[['a', 1], ['b', 2], ['b', 2]]"
      ]
     },
     "execution_count": 55,
     "metadata": {},
     "output_type": "execute_result"
    }
   ],
   "source": [
    "list= [\"a\",\"b\",\"b\"]\n",
    "[[x,list.count(x)] for x in list]"
   ]
  },
  {
   "cell_type": "code",
   "execution_count": 56,
   "metadata": {},
   "outputs": [
    {
     "data": {
      "text/plain": [
       "[['b', 2], ['a', 1]]"
      ]
     },
     "execution_count": 56,
     "metadata": {},
     "output_type": "execute_result"
    }
   ],
   "source": [
    "# In this piece of code, you first see that your list is converted to a set. \n",
    "# This will make sure that only the unique list items are kept, namely a and b. \n",
    "# Then you say that for each set item, you want to take that item and pass it to a count() method\n",
    "\n",
    "# Remember that sets only contain unique items!\n",
    "\n",
    "list= [\"a\",\"b\",\"b\"]\n",
    "[[x,list.count(x)] for x in set(list)]"
   ]
  },
  {
   "cell_type": "code",
   "execution_count": 57,
   "metadata": {},
   "outputs": [
    {
     "data": {
      "text/plain": [
       "Counter({'a': 1, 'b': 2})"
      ]
     },
     "execution_count": 57,
     "metadata": {},
     "output_type": "execute_result"
    }
   ],
   "source": [
    "##Counting all list items with Counter()\n",
    "# Note that Counter() is generally faster when you want to count all list items.\n",
    "\n",
    "# Import `Counter` from the `collections` library\n",
    "from collections import Counter\n",
    "\n",
    "# This is your list\n",
    "list = [\"a\",\"b\",\"b\"]\n",
    "\n",
    "# Pass `list` to `Counter()`\n",
    "Counter(list)"
   ]
  },
  {
   "cell_type": "code",
   "execution_count": 4,
   "metadata": {},
   "outputs": [
    {
     "data": {
      "text/plain": [
       "[(1, 2, 3), (4, 5, 6), (7, 8, 9)]"
      ]
     },
     "execution_count": 4,
     "metadata": {},
     "output_type": "execute_result"
    }
   ],
   "source": [
    "##How To Split A Python List Into Evenly Sized Chunks\n",
    "\n",
    "# Your list `x`\n",
    "x = [1,2,3,4,5,6,7,8,9]\n",
    "\n",
    "# Split `x` up in chunks of 3\n",
    "y = zip(*[iter(x)]*3)\n",
    "\n",
    "# Use `list()` to print the result of `zip()`\n",
    "list(y)\n",
    "#print(y)"
   ]
  },
  {
   "cell_type": "code",
   "execution_count": 5,
   "metadata": {},
   "outputs": [
    {
     "data": {
      "text/plain": [
       "50"
      ]
     },
     "execution_count": 5,
     "metadata": {},
     "output_type": "execute_result"
    }
   ],
   "source": [
    "list = range(0,50)\n",
    "len(list)"
   ]
  },
  {
   "cell_type": "code",
   "execution_count": 17,
   "metadata": {},
   "outputs": [
    {
     "data": {
      "text/plain": [
       "[range(0, 5),\n",
       " range(5, 10),\n",
       " range(10, 15),\n",
       " range(15, 20),\n",
       " range(20, 25),\n",
       " range(25, 30),\n",
       " range(30, 35),\n",
       " range(35, 40),\n",
       " range(40, 45),\n",
       " range(45, 50)]"
      ]
     },
     "execution_count": 17,
     "metadata": {},
     "output_type": "execute_result"
    }
   ],
   "source": [
    "# Set up your list and chunk size\n",
    "list = range(0, 50)\n",
    "chunk = 5\n",
    "\n",
    "# Split up your list into chunks\n",
    "[list[i:i + chunk ] for i in range(0, len(list), chunk)]"
   ]
  },
  {
   "cell_type": "code",
   "execution_count": 18,
   "metadata": {},
   "outputs": [
    {
     "name": "stdout",
     "output_type": "stream",
     "text": [
      "[1, 2, 3]\n",
      "[8, 9, 10]\n"
     ]
    }
   ],
   "source": [
    "##How To Loop over A List in Python\n",
    "\n",
    "# This is your list\n",
    "mylist = [[1,2,3],[4,5,6,7],[8,9,10]]\n",
    "\n",
    "# Loop over your list and print all elements that are of size 3\n",
    "for x in mylist:\n",
    "      if len(x)==3:\n",
    "        print(x)"
   ]
  },
  {
   "cell_type": "code",
   "execution_count": 19,
   "metadata": {},
   "outputs": [
    {
     "name": "stdout",
     "output_type": "stream",
     "text": [
      "0 3\n",
      "1 4\n",
      "2 5\n",
      "3 6\n"
     ]
    }
   ],
   "source": [
    "# This is your list\n",
    "myList = [3,4,5,6]\n",
    "\n",
    "# Loop over `myList` and print tuples of all indices and values \n",
    "for i, val in enumerate(myList):\n",
    "     print(i, val)"
   ]
  },
  {
   "cell_type": "code",
   "execution_count": 20,
   "metadata": {},
   "outputs": [
    {
     "name": "stdout",
     "output_type": "stream",
     "text": [
      "[9, 11, 26, 28]\n"
     ]
    }
   ],
   "source": [
    "##How To Get An Intersection Of Two Python Lists\n",
    "\n",
    "lst1 = [4, 9, 1, 17, 11, 26, 28, 54, 69]\n",
    "lst2 = [9, 9, 74, 21, 45, 11, 63, 28, 26]\n",
    "\n",
    "# Python program to illustrate the intersection \n",
    "# of two lists in most simple way \n",
    "def intersection(lst1, lst2): \n",
    "    lst3 = [value for value in lst1 if value in lst2] \n",
    "    return lst3 \n",
    "  \n",
    "# Driver Code \n",
    "lst1 = [4, 9, 1, 17, 11, 26, 28, 54, 69] \n",
    "lst2 = [9, 9, 74, 21, 45, 11, 63, 28, 26] \n",
    "print(intersection(lst1, lst2)) "
   ]
  },
  {
   "cell_type": "code",
   "execution_count": 1,
   "metadata": {},
   "outputs": [
    {
     "name": "stdout",
     "output_type": "stream",
     "text": [
      "[9, 10, 4, 5]\n"
     ]
    }
   ],
   "source": [
    "# Python program to illustrate the intersection \n",
    "# of two lists using set() method \n",
    "def intersection(lst1, lst2): \n",
    "    return list(set(lst1) & set(lst2)) \n",
    "  \n",
    "# Driver Code \n",
    "lst1 = [15, 9, 10, 56, 23, 78, 5, 4, 9] \n",
    "lst2 = [9, 4, 5, 36, 47, 26, 10, 45, 87] \n",
    "print(intersection(lst1, lst2)) "
   ]
  },
  {
   "cell_type": "code",
   "execution_count": 2,
   "metadata": {},
   "outputs": [
    {
     "name": "stdout",
     "output_type": "stream",
     "text": [
      "[1, 2, 3, 5, 6, 7, 8]\n"
     ]
    }
   ],
   "source": [
    "##How To Remove Duplicates From A List in Python\n",
    "\n",
    "# Your list with duplicate values\n",
    "duplicates = [1, 2, 3, 1, 2, 5, 6, 7, 8]\n",
    "\n",
    "# Print the unique `duplicates` list\n",
    "print(list(set(duplicates)))"
   ]
  },
  {
   "cell_type": "code",
   "execution_count": 3,
   "metadata": {},
   "outputs": [
    {
     "data": {
      "text/plain": [
       "[8, 5, 6, 7]"
      ]
     },
     "execution_count": 3,
     "metadata": {},
     "output_type": "execute_result"
    }
   ],
   "source": [
    "# A list with small numbers \n",
    "smallNumbers = [1, 2, 3]\n",
    "\n",
    "# Print the unique `duplicates` list without the small numbers\n",
    "list(set(duplicates) - set(smallNumbers))"
   ]
  },
  {
   "cell_type": "code",
   "execution_count": null,
   "metadata": {},
   "outputs": [],
   "source": []
  }
 ],
 "metadata": {
  "kernelspec": {
   "display_name": "Python 3",
   "language": "python",
   "name": "python3"
  },
  "language_info": {
   "codemirror_mode": {
    "name": "ipython",
    "version": 3
   },
   "file_extension": ".py",
   "mimetype": "text/x-python",
   "name": "python",
   "nbconvert_exporter": "python",
   "pygments_lexer": "ipython3",
   "version": "3.8.5"
  }
 },
 "nbformat": 4,
 "nbformat_minor": 4
}
